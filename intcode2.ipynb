{
 "metadata": {
  "name": "intcode2"
 },
 "nbformat": 3,
 "nbformat_minor": 0,
 "worksheets": [
  {
   "cells": [
    {
     "cell_type": "raw",
     "metadata": {},
     "source": [
      "Wow some text found its way into my notebook!"
     ]
    },
    {
     "cell_type": "code",
     "collapsed": false,
     "input": [
      "%load_ext rmagic"
     ],
     "language": "python",
     "metadata": {},
     "outputs": [
      {
       "output_type": "stream",
       "stream": "stdout",
       "text": [
        "The rmagic extension is already loaded. To reload it, use:\n",
        "  %reload_ext rmagic\n"
       ]
      }
     ],
     "prompt_number": 40
    },
    {
     "cell_type": "raw",
     "metadata": {},
     "source": [
      "More text is here!"
     ]
    },
    {
     "cell_type": "interactivecode",
     "collapsed": false,
     "input": "%%R\nx = 9;\nplot(1:x)",
     "language": "python",
     "metadata": {},
     "outputs": [
      {
       "metadata": {},
       "output_type": "display_data",
       "png": "[encoded data removed]"
      }
     ],
     "prompt_number": 46,
     "widgets": [
      {
       "defaultvalue": 10,
       "linenum": 1,
       "max": 25,
       "min": 1,
       "step": 2,
       "type": "slider",
       "variable": "x"
      }
     ]
    },
    {
     "cell_type": "code",
     "collapsed": false,
     "input": [
      "print \"different print!\""
     ],
     "language": "python",
     "metadata": {},
     "outputs": [
      {
       "cell_type": "output",
       "output_type": "stream",
       "stream": "stdout",
       "text": [
        "yo yo yo!\n"
       ]
      }
     ],
     "prompt_number": 1
    },
    {
     "cell_type": "raw",
     "metadata": {},
     "source": [
      "different text is here!"
     ]
    },
    {
     "cell_type": "code",
     "collapsed": false,
     "input": [
      "%%R\n",
      "plot(rnorm(14))"
     ],
     "language": "python",
     "metadata": {},
     "outputs": []
    },
    {
     "cell_type": "raw",
     "metadata": {},
     "source": [
      "Even more text."
     ]
    }
   ],
   "metadata": {}
  }
 ]
}