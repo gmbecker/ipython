{
 "nbformat":      3,
"nbformat_minor":      0,
"metadata": {
 "name": "Untitled0" 
},
"worksheets": [
 {
 "cells": [
 {
 "metadata": {},
"cell_type": "raw",
"source": "Wow some text found its way into my notebook!" 
},
{
 "cell_type": "code",
"collapsed": false,
"language": "python",
"prompt_number":      1,
"input": "%load_ext rmagic",
"outputs": [] 
},
{
 "metadata": {},
"cell_type": "raw",
"source": "More text is here!" 
},
{
 "cell_type": "interactivecode",
"collapsed": false,
"language": "python",
"input": "%%R\nx=10\nplot(1:x)",
"outputs": [],
"widgets": [
 {
 "variable": "x",
"linenum": 1,
"type": "slider",
"defaultvalue": 10,
"step":      2,
"min":      1,
"max":     25 
} 
] 
},
{
 "cell_type": "code",
"collapsed": false,
"language": "python",
"prompt_number":      1,
"input": "print \"different print!\"",
"outputs": [
 {
 "stream": "stdout",
"cell_type": "output",
"output_type": "stream",
"text": "yo yo yo!\n" 
} 
] 
},
{
 "metadata": {},
"cell_type": "raw",
"source": "different text is here!" 
},
{
 "cell_type": "code",
"collapsed": false,
"language": "python",
"input": "%%R\nplot(rnorm(14))",
"outputs": [] 
},
{
 "metadata": {},
"cell_type": "raw",
"source": "Even more text." 
} 
] 
} 
] 
}