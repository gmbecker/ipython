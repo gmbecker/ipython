{
 "metadata": {
  "name": "BranchingAdmissions"
 },
 "nbformat": 3,
 "nbformat_minor": 0,
 "worksheets": [
  {
   "cells": [
    {
     "cell_type": "markdown",
     "metadata": {},
     "source": [
      "We're going to analyze some binary data. We implement 2 options: OLS  and Logistic regression in R"
     ]
    },
    {
     "cell_type": "code",
     "collapsed": false,
     "input": [
      "%load_ext rmagic"
     ],
     "language": "python",
     "metadata": {},
     "outputs": [
      {
       "output_type": "stream",
       "stream": "stdout",
       "text": [
        "The rmagic extension is already loaded. To reload it, use:\n",
        "  %reload_ext rmagic\n"
       ]
      }
     ],
     "prompt_number": 144
    },
    {
     "cell_type": "code",
     "collapsed": false,
     "input": [
      "%%R \n",
      "mydata <- read.csv(\"http://www.ats.ucla.edu/stat/data/binary.csv\")"
     ],
     "language": "python",
     "metadata": {},
     "outputs": [],
     "prompt_number": 145
    },
    {
     "cell_type": "altset",
     "cells": [
      {
       "cell_type": "alt",
       "cells": [
        {
         "cell_type": "code",
         "collapsed": false,
         "input": "%%R\nfit = lm(admit~., data = mydata)\nclass = ifelse(fit$fitted>=.5, 1, 0)",
         "language": "python",
         "metadata": {},
         "outputs": [],
         "prompt_number": 142
        },
        {
         "cell_type": "code",
         "collapsed": false,
         "input": "%%R\nprint(table(class))",
         "language": "python",
         "metadata": {},
         "outputs": [
          {
           "metadata": {},
           "output_type": "display_data",
           "text": "class\n  0   1 \n357  43 \n"
          }
         ],
         "prompt_number": 143
        }
       ],
       "metadata": {}
      },
      {
       "cell_type": "alt",
       "cells": [
        {
         "cell_type": "code",
         "collapsed": false,
         "input": "",
         "language": "python",
         "metadata": {},
         "outputs": []
        }
       ],
       "metadata": {}
      }
     ],
     "metadata": {}
    },
    {
     "cell_type": "code",
     "collapsed": false,
     "input": [
      "%%R\n",
      "print(table(mydata$admit, class))"
     ],
     "language": "python",
     "metadata": {},
     "outputs": [
      {
       "metadata": {},
       "output_type": "display_data",
       "text": [
        "   class\n",
        "      0   1\n",
        "  0 256  17\n",
        "  1 101  26\n"
       ]
      }
     ],
     "prompt_number": 134
    },
    {
     "cell_type": "code",
     "collapsed": false,
     "input": [
      "%%R\n",
      "newdat = data.frame(gre = sample(seq(700, 800, by=10), 4, replace=TRUE),\n",
      "                    gpa = round(runif(4, min = 3, max = 4), digits =2),\n",
      "                    rank = sample(1:4, 4, replace=TRUE)\n",
      "                    )\n",
      "print(predict(fit, newdat, type=\"response\"))"
     ],
     "language": "python",
     "metadata": {},
     "outputs": [
      {
       "metadata": {},
       "output_type": "display_data",
       "text": [
        "        1         2         3         4 \n",
        "0.3923678 0.2339982 0.3333551 0.5048948 \n"
       ]
      }
     ],
     "prompt_number": 141
    },
    {
     "cell_type": "code",
     "collapsed": false,
     "input": [
      "%R print(newdat)"
     ],
     "language": "python",
     "metadata": {},
     "outputs": [
      {
       "metadata": {},
       "output_type": "display_data",
       "text": [
        "  gre  gpa rank\n",
        "1 720 3.79    4\n",
        "2 800 3.69    4\n",
        "3 700 3.53    4\n",
        "4 750 3.35    3\n"
       ]
      }
     ],
     "prompt_number": 136
    },
    {
     "cell_type": "code",
     "collapsed": false,
     "input": [],
     "language": "python",
     "metadata": {},
     "outputs": []
    }
   ],
   "metadata": {}
  }
 ]
}