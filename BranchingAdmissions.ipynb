{
 "metadata": {
  "name": "BranchingAdmissions"
 },
 "nbformat": 3,
 "nbformat_minor": 0,
 "worksheets": [
  {
   "cells": [
    {
     "cell_type": "markdown",
     "metadata": {},
     "source": [
      "We're going to analyze some binary data. We implement 2 options: OLS  and Logistic regression in R"
     ]
    },
    {
     "cell_type": "code",
     "collapsed": false,
     "input": [
      "%load_ext rmagic"
     ],
     "language": "python",
     "metadata": {},
     "outputs": [
      {
       "output_type": "stream",
       "stream": "stdout",
       "text": [
        "The rmagic extension is already loaded. To reload it, use:\n",
        "  %reload_ext rmagic\n"
       ]
      }
     ],
     "prompt_number": 146
    },
    {
     "cell_type": "code",
     "collapsed": false,
     "input": [
      "%%R \n",
      "mydata <- read.csv(\"http://www.ats.ucla.edu/stat/data/binary.csv\")"
     ],
     "language": "python",
     "metadata": {},
     "outputs": [],
     "prompt_number": 147
    },
    {
     "cell_type": "altset",
     "cells": [
      {
       "cell_type": "alt",
       "cells": [
        {
         "cell_type": "code",
         "collapsed": false,
         "input": "%%R\nfit = lm(admit~., data = mydata)\nclass = ifelse(fit$fitted>=.5, 1, 0)",
         "language": "python",
         "metadata": {},
         "outputs": [],
         "prompt_number": 148
        },
        {
         "cell_type": "code",
         "collapsed": false,
         "input": "%%R\nprint(table(class))",
         "language": "python",
         "metadata": {},
         "outputs": [
          {
           "metadata": {},
           "output_type": "display_data",
           "text": "class\n  0   1 \n357  43 \n"
          }
         ],
         "prompt_number": 149
        }
       ],
       "metadata": {},
       "most_recent": false
      },
      {
       "cell_type": "alt",
       "cells": [
        {
         "cell_type": "code",
         "collapsed": false,
         "input": "%%R\nfit = glm(admit~., data= mydata,\n        family = \"binomial\")\nclass = ifelse(predict(fit, type=\"response\") > .5,\n        1, 0)",
         "language": "python",
         "metadata": {},
         "outputs": [],
         "prompt_number": 153
        },
        {
         "cell_type": "code",
         "collapsed": false,
         "input": "%%R\nprint(table(class))",
         "language": "python",
         "metadata": {},
         "outputs": [
          {
           "metadata": {},
           "output_type": "display_data",
           "text": "class\n  0   1 \n351  49 \n"
          }
         ],
         "prompt_number": 9
        }
       ],
       "metadata": {},
       "most_recent": true
      }
     ],
     "metadata": {}
    },
    {
     "cell_type": "code",
     "collapsed": false,
     "input": [
      "%%R\n",
      "print(table(mydata$admit, class))"
     ],
     "language": "python",
     "metadata": {},
     "outputs": [
      {
       "metadata": {},
       "output_type": "display_data",
       "text": [
        "   class\n",
        "      0   1\n",
        "  0 253  20\n",
        "  1  98  29\n"
       ]
      }
     ],
     "prompt_number": 154
    },
    {
     "cell_type": "code",
     "collapsed": false,
     "input": [
      "%%R\n",
      "newdat = data.frame(gre = sample(seq(700, 800, by=10), 4, replace=TRUE),\n",
      "                    gpa = round(runif(4, min = 3.5, max = 4), digits =2),\n",
      "                    rank = sample(1:4, 4, replace=TRUE)\n",
      "                    )\n",
      "print(newdat)"
     ],
     "language": "python",
     "metadata": {},
     "outputs": [
      {
       "metadata": {},
       "output_type": "display_data",
       "text": [
        "  gre  gpa rank\n",
        "1 780 3.61    4\n",
        "2 790 3.88    4\n",
        "3 800 3.56    4\n",
        "4 760 3.68    1\n"
       ]
      }
     ],
     "prompt_number": 155
    },
    {
     "cell_type": "code",
     "collapsed": false,
     "input": [
      "%R print(predict(fit, newdat, type=\"response\"))"
     ],
     "language": "python",
     "metadata": {},
     "outputs": [
      {
       "metadata": {},
       "output_type": "display_data",
       "text": [
        "        1         2         3         4 \n",
        "0.2506091 0.2967895 0.2519314 0.6441081 \n"
       ]
      }
     ],
     "prompt_number": 156
    },
    {
     "cell_type": "code",
     "collapsed": false,
     "input": [],
     "language": "python",
     "metadata": {},
     "outputs": []
    }
   ],
   "metadata": {}
  }
 ]
}