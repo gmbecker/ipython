{
 "metadata": {
  "name": "BranchingAdmissions"
 },
 "nbformat": 3,
 "nbformat_minor": 0,
 "worksheets": [
  {
   "cells": [
    {
     "cell_type": "markdown",
     "metadata": {},
     "source": [
      "We're going to analyze some binary data. We implement 2 options: OLS  and Logistic regression in R"
     ]
    },
    {
     "cell_type": "code",
     "collapsed": false,
     "input": [
      "%load_ext rmagic"
     ],
     "language": "python",
     "metadata": {},
     "outputs": [],
     "prompt_number": 2
    },
    {
     "cell_type": "code",
     "collapsed": false,
     "input": [
      "%%R \n",
      "mydata <- read.csv(\"http://www.ats.ucla.edu/stat/data/binary.csv\")"
     ],
     "language": "python",
     "metadata": {},
     "outputs": [],
     "prompt_number": 3
    },
    {
     "cell_type": "altset",
     "cells": [
      {
       "cell_type": "alt",
       "cells": [
        {
         "cell_type": "code",
         "collapsed": false,
         "input": "%%R\nfit = lm(admit~., data = mydata)\nclass = ifelse(fit$fitted>=.5, 1, 0)",
         "language": "python",
         "metadata": {},
         "outputs": [],
         "prompt_number": 11
        },
        {
         "cell_type": "code",
         "collapsed": false,
         "input": "%%R\nprint(table(class))",
         "language": "python",
         "metadata": {},
         "outputs": [
          {
           "metadata": {},
           "output_type": "display_data",
           "text": "class\n  0   1 \n357  43 \n"
          }
         ],
         "prompt_number": 12
        }
       ],
       "metadata": {}
      },
      {
       "cell_type": "alt",
       "cells": [
        {
         "cell_type": "code",
         "collapsed": false,
         "input": "%%R\nfit = glm(admit~., data= mydata,\n        family = \"binomial\")\nclass = ifelse(predict(fit, type=\"response\") > .5,\n        1, 0)",
         "language": "python",
         "metadata": {},
         "outputs": [],
         "prompt_number": 8
        },
        {
         "cell_type": "code",
         "collapsed": false,
         "input": "%%R\nprint(table(class))",
         "language": "python",
         "metadata": {},
         "outputs": [
          {
           "metadata": {},
           "output_type": "display_data",
           "text": "class\n  0   1 \n351  49 \n"
          }
         ],
         "prompt_number": 9
        }
       ],
       "metadata": {}
      }
     ],
     "metadata": {}
    },
    {
     "cell_type": "code",
     "collapsed": false,
     "input": [
      "%%R\n",
      "print(table(mydata$admit, class))"
     ],
     "language": "python",
     "metadata": {},
     "outputs": [
      {
       "metadata": {},
       "output_type": "display_data",
       "text": [
        "   class\n",
        "      0   1\n",
        "  0 256  17\n",
        "  1 101  26\n"
       ]
      }
     ],
     "prompt_number": 13
    },
    {
     "cell_type": "code",
     "collapsed": false,
     "input": [
      "%%R\n",
      "newdat = data.frame(gre = sample(seq(700, 800, by=10), 4, replace=TRUE),\n",
      "                    gpa = round(runif(4, min = 3.5, max = 4), digits =2),\n",
      "                    rank = sample(1:4, 4, replace=TRUE)\n",
      "                    )\n",
      "print(newdat)"
     ],
     "language": "python",
     "metadata": {},
     "outputs": [
      {
       "metadata": {},
       "output_type": "display_data",
       "text": [
        "  gre  gpa rank\n",
        "1 800 3.82    4\n",
        "2 720 3.73    1\n",
        "3 700 3.57    1\n",
        "4 760 3.77    1\n"
       ]
      }
     ],
     "prompt_number": 16
    },
    {
     "cell_type": "code",
     "collapsed": false,
     "input": [
      "%R print(predict(fit, newdat, type=\"response\"))"
     ],
     "language": "python",
     "metadata": {},
     "outputs": [
      {
       "metadata": {},
       "output_type": "display_data",
       "text": [
        "        1         2         3         4 \n",
        "0.3104940 0.5900121 0.5569971 0.6137507 \n"
       ]
      }
     ],
     "prompt_number": 17
    },
    {
     "cell_type": "code",
     "collapsed": false,
     "input": [],
     "language": "python",
     "metadata": {},
     "outputs": []
    }
   ],
   "metadata": {}
  }
 ]
}