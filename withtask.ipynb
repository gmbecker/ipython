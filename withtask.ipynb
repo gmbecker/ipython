{
 "nbformat":      3,
"nbformat_minor":      0,
"metadata": {
 "name": "Untitled1" 
},
"worksheets": [
 {
 "cells": [
 {
 "cell_type": "code",
"collapsed": false,
"language": "python",
"input": "%load_ext rmagic",
"outputs": [] 
},
{
 "cell_type": "task",
"cells": [
 {
 "metadata": {},
"cell_type": "raw",
"source": "Wow some text. So cool!" 
},
{
 "cell_type": "code",
"collapsed": false,
"language": "python",
"prompt_number":      2,
"input": "%%R\nplot(1:10)",
"outputs": [
 {
 "png": "iVBORw0KGgoAAAANSUhEUgAAAeAAAAHgCAMAAABKCk6nAAACx1BMVEUAAAABAQECAgIDAwMEBAQF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\ngcURWByBxRFYHIHFEVgcgcURWNz/APuVDk5Z4oM7AAAAAElFTkSuQmCC\n",
"cell_type": "output",
"output_type": "display_data",
"text": "" 
} 
] 
},
{
 "cell_type": "code",
"collapsed": false,
"language": "python",
"prompt_number":      3,
"input": "val = 5;\nval2 = 6;\nval3 = val + val2;\nprint(\"python says hello\")",
"outputs": [
 {
 "stream": "stdout",
"cell_type": "output",
"output_type": "stream",
"text": "python says hello\n" 
} 
] 
},
{
 "cell_type": "code",
"collapsed": false,
"language": "python",
"prompt_number":      4,
"input": "%%R\nprint(\"R too!!\")",
"outputs": [
 {
 "cell_type": "output",
"output_type": "display_data",
"text": "[1] \"R too!!\"\n" 
} 
] 
} 
] 
},
{
 "metadata": {},
"cell_type": "raw",
"source": "Some more text to finish it out" 
} 
] 
} 
] 
}