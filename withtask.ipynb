{
 "nbformat":      3,
"nbformat_minor":      0,
"metadata": {
 "name": "Untitled0" 
},
"worksheets": [
 {
 "cells": [
 {
 "metadata": {},
"cell_type": "raw",
"source": "Wow some text found its way into my notebook!" 
},
{
 "cell_type": "task",
"cells": [
 {
 "cell_type": "code",
"collapsed": false,
"language": "python",
"prompt_number":      1,
"input": "print \"yo yo yo!\"",
"outputs": [
 {
 "stream": "stdout",
"cell_type": "output",
"output_type": "stream",
"text": "yo yo yo!\n" 
} 
] 
},
{
 "cell_type": "code",
"collapsed": false,
"language": "python",
"input": "",
"outputs": [] 
} 
] 
} 
] 
} 
] 
}