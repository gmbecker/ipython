{
 "metadata": {
  "name": "HousingAltsAndTasks"
 },
 "nbformat": 3,
 "nbformat_minor": 0,
 "worksheets": [
  {
   "cells": [
    {
     "cell_type": "code",
     "collapsed": false,
     "input": [
      "%load_ext rmagic"
     ],
     "language": "python",
     "metadata": {},
     "outputs": [
      {
       "output_type": "stream",
       "stream": "stdout",
       "text": [
        "The rmagic extension is already loaded. To reload it, use:\n",
        "  %reload_ext rmagic\n"
       ]
      }
     ],
     "prompt_number": 4
    },
    {
     "cell_type": "markdown",
     "metadata": {},
     "source": [
      "In this Notebook we investigate the relationship of lot square-footage to housing price for sales in the extended bay area during the years 2003-2006. We break our code up into three Tasks, loading the data, cleaning the data, and creating a plot."
     ]
    },
    {
     "cell_type": "markdown",
     "metadata": {},
     "source": [
      "When cleaning the data in preparation to plot it, we are faced with three (3) decisions: \n",
      "\n",
      "1. whether to remove all rows containing missing values\n",
      "2. whether/how to trim the values of price in the data\n",
      "3. whether/how to trim values of lsqft in in the data"
     ]
    },
    {
     "cell_type": "markdown",
     "metadata": {},
     "source": [
      "Instead of encoding only one configuration in the notebook (or repeating similar code sequentially), we use Alternative Set cells encode all possible configurations in the same document in a manner that they can easily be utilized and explored"
     ]
    },
    {
     "cell_type": "task",
     "cells": [
      {
       "cell_type": "markdown",
       "metadata": {},
       "source": "Reading in the data"
      },
      {
       "cell_type": "code",
       "collapsed": false,
       "input": "%%R\nif(!exists(\"housing\"))\n    load(url(\"http://eeyore.ucdavis.edu/stat141/Data/housing.rda\"))\nprint(names(housing))",
       "language": "python",
       "metadata": {},
       "outputs": [
        {
         "metadata": {},
         "output_type": "display_data",
         "text": " [1] \"county\"  \"city\"    \"zip\"     \"street\"  \"price\"   \"br\"      \"lsqft\"  \n [8] \"bsqft\"   \"year\"    \"date\"    \"long\"    \"lat\"     \"quality\" \"match\"  \n[15] \"wk\"     \n"
        }
       ],
       "prompt_number": 5
      }
     ],
     "metadata": {}
    },
    {
     "cell_type": "task",
     "cells": [
      {
       "cell_type": "markdown",
       "metadata": {},
       "source": "Cleaning the data."
      },
      {
       "cell_type": "altset",
       "cells": [
        {
         "cell_type": "alt",
         "cells": [
          {
           "cell_type": "code",
           "collapsed": false,
           "input": "%%R \nh = na.omit(housing)\nprint(\"ooook\")",
           "language": "python",
           "metadata": {},
           "outputs": [],
           "prompt_number": 7
          }
         ],
         "metadata": {},
         "most_recent": false
        },
        {
         "cell_type": "alt",
         "cells": [
          {
           "cell_type": "code",
           "collapsed": false,
           "input": "%%R\nh = housing\nprint(\"wha    aat\")",
           "language": "python",
           "metadata": {},
           "outputs": [
            {
             "metadata": {},
             "output_type": "display_data",
             "text": "[1] \"wha    aat\"\n"
            }
           ],
           "prompt_number": 10
          }
         ],
         "metadata": {},
         "most_recent": true
        }
       ],
       "metadata": {}
      },
      {
       "cell_type": "markdown",
       "metadata": {},
       "source": "Trim data based on price"
      },
      {
       "cell_type": "altset",
       "cells": [
        {
         "cell_type": "alt",
         "cells": [
          {
           "cell_type": "code",
           "collapsed": false,
           "input": "%%R\nh= h",
           "language": "python",
           "metadata": {},
           "outputs": [],
           "prompt_number": 21
          }
         ],
         "metadata": {},
         "most_recent": false
        },
        {
         "cell_type": "alt",
         "cells": [
          {
           "cell_type": "code",
           "collapsed": false,
           "input": "%%R\nh = subset(h,\n    price < 5000000)",
           "language": "python",
           "metadata": {},
           "outputs": [],
           "prompt_number": 11
          }
         ],
         "metadata": {},
         "most_recent": true
        },
        {
         "cell_type": "alt",
         "cells": [
          {
           "cell_type": "code",
           "collapsed": false,
           "input": "%%R\nh = subset(h,\n    price < quantile(\n        price, .9))",
           "language": "python",
           "metadata": {},
           "outputs": [],
           "prompt_number": 24
          }
         ],
         "metadata": {},
         "most_recent": false
        }
       ],
       "metadata": {}
      },
      {
       "cell_type": "markdown",
       "metadata": {},
       "source": "Trim data based on lsqft"
      },
      {
       "cell_type": "altset",
       "cells": [
        {
         "cell_type": "alt",
         "cells": [
          {
           "cell_type": "code",
           "collapsed": false,
           "input": "%%R\nh = h",
           "language": "python",
           "metadata": {},
           "outputs": [],
           "prompt_number": 11
          }
         ],
         "metadata": {},
         "most_recent": false
        },
        {
         "cell_type": "alt",
         "cells": [
          {
           "cell_type": "code",
           "collapsed": false,
           "input": "%%R\nh = subset(h,\n    lsqft < 100000)\nprint(\"stuff aga  in!\")",
           "language": "python",
           "metadata": {},
           "outputs": [
            {
             "metadata": {},
             "output_type": "display_data",
             "text": "[1] \"stuff aga  in!\"\n"
            }
           ],
           "prompt_number": 12
          }
         ],
         "metadata": {},
         "most_recent": true
        },
        {
         "cell_type": "alt",
         "cells": [
          {
           "cell_type": "code",
           "collapsed": false,
           "input": "%%R\nh = subset(h,\n    lsqft < 10000)",
           "language": "python",
           "metadata": {},
           "outputs": [],
           "prompt_number": 9
          }
         ],
         "metadata": {},
         "most_recent": false
        }
       ],
       "metadata": {}
      }
     ],
     "metadata": {}
    },
    {
     "cell_type": "task",
     "cells": [
      {
       "cell_type": "markdown",
       "metadata": {},
       "source": "Create the plot"
      },
      {
       "cell_type": "code",
       "collapsed": false,
       "input": "%%R\nlibrary(hexbin)\nlibrary(lattice)\nprint(hexbinplot(price~lsqft|county, data=h, aspect=1))",
       "language": "python",
       "metadata": {},
       "outputs": [],
       "prompt_number": "*"
      },
      {
       "cell_type": "code",
       "collapsed": false,
       "input": "",
       "language": "python",
       "metadata": {},
       "outputs": [],
       "prompt_number": "*"
      }
     ],
     "metadata": {}
    },
    {
     "cell_type": "code",
     "collapsed": false,
     "input": [],
     "language": "python",
     "metadata": {},
     "outputs": []
    }
   ],
   "metadata": {}
  }
 ]
}